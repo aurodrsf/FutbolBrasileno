{
 "cells": [
  {
   "cell_type": "markdown",
   "metadata": {},
   "source": [
    "### For fun: Análise Exploratória do Futebol Brasileiro\n",
    "\n",
    "Fiz uma pequena análise exploratória de alguns dados do futebol brasileiro desde a era dos pontos corridos até 2020.\n",
    "Não há nada muito sofisticado, sendo apenas uma análise de médias e gráficos."
   ]
  },
  {
   "cell_type": "code",
   "execution_count": 1,
   "metadata": {},
   "outputs": [],
   "source": [
    "import pandas as pd\n",
    "import matplotlib.pyplot as plt\n",
    "import numpy as np"
   ]
  },
  {
   "cell_type": "code",
   "execution_count": 2,
   "metadata": {},
   "outputs": [
    {
     "name": "stdout",
     "output_type": "stream",
     "text": [
      "   ano_campeonato        data horario  rodada  \\\n",
      "0            2003  2003-03-29   08:00       1   \n",
      "1            2003  2003-03-29   08:00       1   \n",
      "2            2003  2003-03-30   09:00       1   \n",
      "3            2003  2003-03-30   09:00       1   \n",
      "4            2003  2003-03-30   09:00       1   \n",
      "\n",
      "                              estadio arbitro  publico  publico_max  \\\n",
      "0  Estádio Brinco de Ouro da Princesa     NaN      NaN          NaN   \n",
      "1                    Arena da Baixada     NaN      NaN          NaN   \n",
      "2      Estádio Jornalista Mário Filho     NaN      NaN          NaN   \n",
      "3           Estádio de Hailé Pinheiro     NaN      NaN          NaN   \n",
      "4                   Estádio Beira-Rio     NaN      NaN          NaN   \n",
      "\n",
      "        time_man       time_vis  ... chutes_bola_parada_man  \\\n",
      "0        Guarani  Vasco da Gama  ...                    NaN   \n",
      "1    Atlético-PR         Grêmio  ...                    NaN   \n",
      "2       Flamengo    Coritiba FC  ...                    NaN   \n",
      "3       Goiás EC    Paysandu SC  ...                    NaN   \n",
      "4  Internacional    Ponte Preta  ...                    NaN   \n",
      "\n",
      "  chutes_bola_parada_vis  defesas_man  defesas_vis  impedimentos_man  \\\n",
      "0                    NaN          NaN          NaN               NaN   \n",
      "1                    NaN          NaN          NaN               NaN   \n",
      "2                    NaN          NaN          NaN               NaN   \n",
      "3                    NaN          NaN          NaN               NaN   \n",
      "4                    NaN          NaN          NaN               NaN   \n",
      "\n",
      "   impedimentos_vis  chutes_man  chutes_vis  chutes_fora_man  chutes_fora_vis  \n",
      "0               NaN         NaN         NaN              NaN              NaN  \n",
      "1               NaN         NaN         NaN              NaN              NaN  \n",
      "2               NaN         NaN         NaN              NaN              NaN  \n",
      "3               NaN         NaN         NaN              NaN              NaN  \n",
      "4               NaN         NaN         NaN              NaN              NaN  \n",
      "\n",
      "[5 rows x 36 columns]\n",
      "<class 'pandas.core.frame.DataFrame'>\n",
      "RangeIndex: 7030 entries, 0 to 7029\n",
      "Data columns (total 36 columns):\n",
      "ano_campeonato              7030 non-null int64\n",
      "data                        7030 non-null object\n",
      "horario                     7030 non-null object\n",
      "rodada                      7030 non-null int64\n",
      "estadio                     7019 non-null object\n",
      "arbitro                     5320 non-null object\n",
      "publico                     5319 non-null float64\n",
      "publico_max                 2783 non-null float64\n",
      "time_man                    7030 non-null object\n",
      "time_vis                    7030 non-null object\n",
      "tecnico_man                 4932 non-null object\n",
      "tecnico_vis                 4932 non-null object\n",
      "colocacao_man               5320 non-null float64\n",
      "colocacao_vis               5320 non-null float64\n",
      "valor_equipe_titular_man    4932 non-null float64\n",
      "valor_equipe_titular_vis    4932 non-null float64\n",
      "idade_media_titular_man     4930 non-null float64\n",
      "idade_media_titular_vis     4930 non-null float64\n",
      "gols_man                    7029 non-null float64\n",
      "gols_vis                    7029 non-null float64\n",
      "gols_1_tempo_man            5310 non-null float64\n",
      "gols_1_tempo_vis            5310 non-null float64\n",
      "escanteios_man              753 non-null float64\n",
      "escanteios_vis              753 non-null float64\n",
      "faltas_man                  753 non-null float64\n",
      "faltas_vis                  753 non-null float64\n",
      "chutes_bola_parada_man      753 non-null float64\n",
      "chutes_bola_parada_vis      753 non-null float64\n",
      "defesas_man                 753 non-null float64\n",
      "defesas_vis                 753 non-null float64\n",
      "impedimentos_man            753 non-null float64\n",
      "impedimentos_vis            753 non-null float64\n",
      "chutes_man                  753 non-null float64\n",
      "chutes_vis                  753 non-null float64\n",
      "chutes_fora_man             753 non-null float64\n",
      "chutes_fora_vis             753 non-null float64\n",
      "dtypes: float64(26), int64(2), object(8)\n",
      "memory usage: 1.7+ MB\n",
      "None\n"
     ]
    }
   ],
   "source": [
    "df = pd.read_csv('futbolbrasileno.csv')\n",
    "print(df.head())\n",
    "print(df.info())"
   ]
  },
  {
   "cell_type": "markdown",
   "metadata": {},
   "source": [
    "#### 1. Desenvolvimento do futebol brasileiro ao longo dos anos\n",
    "\n",
    "Vamos verificar visualmente se há alguma tendência de queda ou aumento na média de gols ao longo dos anos.\n",
    "Algo que é possível verificar de cara é que há mais partidas jogadas entre os anos de 2003 e 2005, devido ao Campeonato Brasileiro possuir mais rodadas (46 em 2003 e 2004 e 42 em 2005, até chegar a 38 rodadas, número que permanece até hoje)."
   ]
  },
  {
   "cell_type": "code",
   "execution_count": 4,
   "metadata": {},
   "outputs": [
    {
     "name": "stdout",
     "output_type": "stream",
     "text": [
      "2003    456\n",
      "2004    456\n",
      "2005    418\n",
      "2006    380\n",
      "2007    380\n",
      "2008    380\n",
      "2009    380\n",
      "2010    380\n",
      "2011    380\n",
      "2012    380\n",
      "2013    380\n",
      "2014    380\n",
      "2015    380\n",
      "2016    380\n",
      "2017    380\n",
      "2018    380\n",
      "2019    380\n",
      "2020    380\n",
      "Name: ano_campeonato, dtype: int64\n"
     ]
    }
   ],
   "source": [
    "# média de gols por ano\n",
    "\n",
    "# verificar a quantidade de jogos por ano\n",
    "ano = df['ano_campeonato'].value_counts().sort_index()\n",
    "print(ano)"
   ]
  },
  {
   "cell_type": "code",
   "execution_count": 5,
   "metadata": {},
   "outputs": [
    {
     "name": "stdout",
     "output_type": "stream",
     "text": [
      "0    6.0\n",
      "1    2.0\n",
      "2    2.0\n",
      "3    4.0\n",
      "4    2.0\n",
      "Name: total_gols, dtype: float64\n"
     ]
    }
   ],
   "source": [
    "# calcular total de gols\n",
    "\n",
    "df['total_gols'] = df['gols_man'] + df['gols_vis']\n",
    "print(df['total_gols'].head())"
   ]
  },
  {
   "cell_type": "code",
   "execution_count": 6,
   "metadata": {},
   "outputs": [
    {
     "name": "stdout",
     "output_type": "stream",
     "text": [
      "ano_campeonato\n",
      "2003    2.828947\n",
      "2004    2.756579\n",
      "2005    3.148325\n",
      "2006    2.713158\n",
      "2007    2.755263\n",
      "Name: total_gols, dtype: float64\n"
     ]
    }
   ],
   "source": [
    "# calculo da media de gols\n",
    "\n",
    "media = df.groupby(['ano_campeonato']).mean()\n",
    "print(media['total_gols'].head())"
   ]
  },
  {
   "cell_type": "code",
   "execution_count": 8,
   "metadata": {},
   "outputs": [
    {
     "data": {
      "image/png": "[encoded data removed]",
      "text/plain": [
       "<Figure size 432x288 with 2 Axes>"
      ]
     },
     "metadata": {},
     "output_type": "display_data"
    }
   ],
   "source": [
    "# plotar o grafico ano x media gols\n",
    "\n",
    "plt.style.use('ggplot')\n",
    "fig, ax = plt.subplots()\n",
    "ax.plot(media.index, media['total_gols'], color = 'blue', label='Média de Gols')\n",
    "ax.set_ylabel('Média de gols por ano')\n",
    "plt.xticks(np.arange(min(media.index), max(media.index)+1, 1.0), rotation=90)\n",
    "\n",
    "ax2 = ax.twinx()\n",
    "ax2.plot(ano, label='Jogos por ano')\n",
    "plt.ylim(360, 480)\n",
    "\n",
    "fig.legend(loc=\"upper right\", bbox_to_anchor=(1,1), bbox_transform=ax.transAxes)\n",
    "plt.show()"
   ]
  },
  {
   "cell_type": "markdown",
   "metadata": {},
   "source": [
    "#### 2. Há alguma vantagem em jogar em casa?"
   ]
  },
  {
   "cell_type": "code",
   "execution_count": 9,
   "metadata": {},
   "outputs": [
    {
     "name": "stdout",
     "output_type": "stream",
     "text": [
      "count    7029.000000\n",
      "mean        1.558970\n",
      "std         1.232089\n",
      "min         0.000000\n",
      "25%         1.000000\n",
      "50%         1.000000\n",
      "75%         2.000000\n",
      "max         7.000000\n",
      "Name: gols_man, dtype: float64\n",
      "count    7029.000000\n",
      "mean        1.027458\n",
      "std         1.028320\n",
      "min         0.000000\n",
      "25%         0.000000\n",
      "50%         1.000000\n",
      "75%         2.000000\n",
      "max         7.000000\n",
      "Name: gols_vis, dtype: float64\n"
     ]
    }
   ],
   "source": [
    "# comparação das médias de gol \n",
    "\n",
    "print(df['gols_man'].describe())\n",
    "print(df['gols_vis'].describe())"
   ]
  },
  {
   "cell_type": "code",
   "execution_count": 10,
   "metadata": {},
   "outputs": [
    {
     "name": "stdout",
     "output_type": "stream",
     "text": [
      "0    Mandante\n",
      "1    Mandante\n",
      "2      Empate\n",
      "3      Empate\n",
      "4      Empate\n",
      "Name: ganhador, dtype: object\n",
      "Mandante     3522\n",
      "Empate       1855\n",
      "Visitante    1653\n",
      "Name: ganhador, dtype: int64\n"
     ]
    }
   ],
   "source": [
    "# a média de gols do mandante é maior que a do visitante. Entretanto, o que importa são as vitórias do mandante\n",
    "\n",
    "df['ganhador'] = np.where(df['gols_man'] > df['gols_vis'], 'Mandante', \n",
    "                          np.where(df['gols_man'] == df['gols_vis'], 'Empate', 'Visitante'))\n",
    "print(df['ganhador'].head())\n",
    "print(df['ganhador'].value_counts()) # podemos concluir que há vantagem do mandante"
   ]
  },
  {
   "cell_type": "markdown",
   "metadata": {},
   "source": [
    "#### 3. Quais foram as maiores goleadas dentro e fora de casa?"
   ]
  },
  {
   "cell_type": "code",
   "execution_count": 12,
   "metadata": {},
   "outputs": [
    {
     "name": "stdout",
     "output_type": "stream",
     "text": [
      "ano_campeonato         2003\n",
      "time_man           Goiás EC\n",
      "time_vis          Juventude\n",
      "gols_man                  7\n",
      "gols_vis                  0\n",
      "Name: 65, dtype: object\n",
      "ano_campeonato         2003\n",
      "time_man           EC Bahia\n",
      "time_vis          Santos FC\n",
      "gols_man                  4\n",
      "gols_vis                  7\n",
      "Name: 450, dtype: object\n"
     ]
    }
   ],
   "source": [
    "# Determinar as maiores goleadas dentro e fora de casa\n",
    "\n",
    "maior_qtd_gols_casa = df.iloc[df['gols_man'].idxmax()]\n",
    "maior_qtd_gols_vis = df.iloc[df['gols_vis'].idxmax()]\n",
    "print(maior_qtd_gols_casa.loc[['ano_campeonato','time_man','time_vis','gols_man','gols_vis']])\n",
    "print(maior_qtd_gols_vis.loc[['ano_campeonato','time_man','time_vis','gols_man','gols_vis']])"
   ]
  },
  {
   "cell_type": "code",
   "execution_count": 13,
   "metadata": {},
   "outputs": [
    {
     "name": "stdout",
     "output_type": "stream",
     "text": [
      "ano_campeonato         2003\n",
      "time_man           EC Bahia\n",
      "time_vis          Santos FC\n",
      "gols_man                  4\n",
      "gols_vis                  7\n",
      "total_gols               11\n",
      "Name: 450, dtype: object\n"
     ]
    }
   ],
   "source": [
    "# qual foi a partida com mais gols?\n",
    "\n",
    "maior_qtd_gols = df.iloc[df['total_gols'].idxmax()]\n",
    "print(maior_qtd_gols.loc[['ano_campeonato','time_man','time_vis','gols_man','gols_vis','total_gols']])"
   ]
  },
  {
   "cell_type": "markdown",
   "metadata": {},
   "source": [
    "#### 4. Quantos clubes diferentes já jogaram a Série A?"
   ]
  },
  {
   "cell_type": "code",
   "execution_count": 14,
   "metadata": {},
   "outputs": [
    {
     "name": "stdout",
     "output_type": "stream",
     "text": [
      "44\n",
      "['Guarani' 'Atlético-PR' 'Flamengo' 'Goiás EC' 'Internacional'\n",
      " 'Criciúma EC' 'Juventude' 'Fortaleza' 'Cruzeiro' 'EC Vitória' 'Santos FC'\n",
      " 'Corinthians' 'Fluminense' 'Atlético-MG' 'Coritiba FC' 'Grêmio'\n",
      " 'EC Bahia' 'Figueirense FC' 'Paysandu SC' 'Ponte Preta' 'Paraná'\n",
      " 'São Caetano' 'São Paulo' 'Vasco da Gama' 'Botafogo' 'Palmeiras'\n",
      " 'Brasiliense-DF' 'Santa Cruz' 'América-RN' 'Sport Recife' 'Náutico'\n",
      " 'Ipatinga FC' 'Portuguesa' 'Avaí FC' 'Santo André' 'Barueri'\n",
      " 'Atlético-GO' 'Ceará SC' 'América-MG' 'Chapecoense' 'Joinville-SC'\n",
      " 'Athletico-PR' 'CSA' 'RB Bragantino']\n"
     ]
    }
   ],
   "source": [
    "# Aqui separamos os valores únicos de clubes e concatenamos em uma única lista\n",
    "\n",
    "mandante = pd.unique(df['time_man'])\n",
    "visitante = pd.unique(df['time_vis'])\n",
    "\n",
    "clubes = pd.unique(np.concatenate((mandante, visitante)))\n",
    "print(len(clubes))\n",
    "print(clubes)"
   ]
  },
  {
   "cell_type": "markdown",
   "metadata": {},
   "source": [
    "#### 5. Qual foi o clube que mais venceu?"
   ]
  },
  {
   "cell_type": "code",
   "execution_count": 15,
   "metadata": {},
   "outputs": [
    {
     "name": "stdout",
     "output_type": "stream",
     "text": [
      "0        Guarani\n",
      "1    Atlético-PR\n",
      "2         Empate\n",
      "3         Empate\n",
      "4         Empate\n",
      "Name: time_ganhador, dtype: object\n"
     ]
    }
   ],
   "source": [
    "# mesmo passo do 3; mas agora retornamos uma coluna com o nome do time vencedor\n",
    "\n",
    "df['time_ganhador'] = np.where(df['gols_man'] > df['gols_vis'], df['time_man'], \n",
    "                          np.where(df['gols_man'] == df['gols_vis'], 'Empate', df['time_vis']))\n",
    "print(df['time_ganhador'].head())"
   ]
  },
  {
   "cell_type": "code",
   "execution_count": 16,
   "metadata": {},
   "outputs": [
    {
     "data": {
      "image/png": "[encoded data removed]",
      "text/plain": [
       "<Figure size 432x288 with 1 Axes>"
      ]
     },
     "metadata": {},
     "output_type": "display_data"
    }
   ],
   "source": [
    "# criamos uma variável ganhadores com a quantidade de vitórias de cada clube e plotamos\n",
    "\n",
    "ganhadores = df['time_ganhador'].value_counts()\n",
    "ax2 = ganhadores[1:6].plot(kind='bar') # não incluí o index 0 pois este é o empate -o maior ganhador de todos, com 1855!-\n",
    "ax2.set_xlabel('Clube')\n",
    "ax2.set_ylabel('Vitórias')\n",
    "\n",
    "plt.show()"
   ]
  },
  {
   "cell_type": "markdown",
   "metadata": {},
   "source": [
    "#### 6. Qual foi o clube que fez mais gols (casa e fora) e qual tomou mais?"
   ]
  },
  {
   "cell_type": "code",
   "execution_count": 17,
   "metadata": {},
   "outputs": [
    {
     "data": {
      "image/png": "[encoded data removed]",
      "text/plain": [
       "<Figure size 432x288 with 1 Axes>"
      ]
     },
     "metadata": {},
     "output_type": "display_data"
    }
   ],
   "source": [
    "# aqui criamos um dataframe vazio para incluir a soma de gols que cada clube fez e tomou\n",
    "\n",
    "summary = pd.DataFrame(columns = ['clube', 'gols_pró', 'gols_contra'])\n",
    "\n",
    "for clube in clubes:\n",
    "    gols_pro = df.loc[df['time_man'] == clube, 'gols_man'].sum()\n",
    "    + df.loc[df['time_vis'] == clube, 'gols_vis'].sum()\n",
    "    \n",
    "    gols_contra = df.loc[df['time_man'] == clube, 'gols_vis'].sum()\n",
    "    + df.loc[df['time_vis'] == clube, 'gols_man'].sum()\n",
    "    \n",
    "    summary = summary.append({'clube' : clube, 'gols_pró' : gols_pro, 'gols_contra' : gols_contra}, ignore_index=True)\n",
    "# colocamos o indice como clube e organizamos os valores por ordem descendente\n",
    "summary = summary.set_index('clube').sort_values(by = ['gols_pró'], ascending = False)\n",
    "plt.bar(summary.index[0:5], summary['gols_pró'][0:5])\n",
    "plt.show()"
   ]
  },
  {
   "cell_type": "code",
   "execution_count": 18,
   "metadata": {},
   "outputs": [
    {
     "data": {
      "image/png": "[encoded data removed]",
      "text/plain": [
       "<Figure size 432x288 with 1 Axes>"
      ]
     },
     "metadata": {},
     "output_type": "display_data"
    }
   ],
   "source": [
    "# mesmo processo anterior, agora com os gols contra\n",
    "summary = summary.sort_values(by = ['gols_contra'], ascending = False)\n",
    "plt.bar(summary.index[0:5], summary['gols_contra'][0:5])\n",
    "plt.show()"
   ]
  },
  {
   "cell_type": "markdown",
   "metadata": {},
   "source": [
    "#### 7. Conclusão\n",
    "\n",
    "Este projeto foi bem divertido de realizar. Não tem nenhuma técnica robusta de estatística, mas foi possível inferir algumas coisas a partir das perguntas, como: o maior vencedor de partidas é o São Paulo FC, o time que mais fez gols foi o Santos e o que mais tomou foi o Atlético MG. No futuro com maior conhecimento e mais ferramentas espero trabalhar novamente com estes dados e extrair análises mais ricas e complexas.\n",
    "\n",
    "#### 8. Fonte \n",
    "\n",
    "https://basedosdados.org/dataset/mundo-transfermarkt-competicoes"
   ]
  }
 ],
 "metadata": {
  "kernelspec": {
   "display_name": "Python 3",
   "language": "python",
   "name": "python3"
  },
  "language_info": {
   "codemirror_mode": {
    "name": "ipython",
    "version": 3
   },
   "file_extension": ".py",
   "mimetype": "text/x-python",
   "name": "python",
   "nbconvert_exporter": "python",
   "pygments_lexer": "ipython3",
   "version": "3.7.4"
  }
 },
 "nbformat": 4,
 "nbformat_minor": 2
}
